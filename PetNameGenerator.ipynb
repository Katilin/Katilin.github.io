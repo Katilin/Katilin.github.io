{
  "nbformat": 4,
  "nbformat_minor": 0,
  "metadata": {
    "colab": {
      "provenance": [],
      "authorship_tag": "ABX9TyNGAF2tQLK1g0n8FFmUwvev"
    },
    "kernelspec": {
      "name": "python3",
      "display_name": "Python 3"
    },
    "language_info": {
      "name": "python"
    }
  },
  "cells": [
    {
      "cell_type": "code",
      "source": [
        "print(\"Welcome to the pet name generator\")\n",
        "character = input(\"What is your favorite Movie Character? \")\n",
        "activity = input(\"What is your favorite activity? \")\n",
        "food_brand_name = input(\"What is your favorite food? \")\n",
        "# Loop until valid gender input is entered\n",
        "while True:\n",
        "    # Get the gender input and convert it to lowercase to make it case-insensitive\n",
        "    gender = input(\"Is your Pet male or female? (m/f): \").lower()  # Convert input to lowercase\n",
        "\n",
        "    if gender == 'm':  # Check if the input is 'm' for male\n",
        "        print(\"Your pet name could be Mr. \" + character + \" \" + activity + \" \" + food_brand_name)\n",
        "        break  # Exit the loop once a valid input is entered\n",
        "    elif gender == 'f':  # Check if the input is 'f' for female\n",
        "        print(\"Your pet name could be Miss \" + character + \" \" + activity + \" \" + food_brand_name)\n",
        "        break  # Exit the loop once a valid input is entered\n",
        "    else:\n",
        "        # If the input is invalid, prompt the user again\n",
        "        print(\"Invalid input. Please enter 'm' for male or 'f' for female.\")\n",
        "        # The loop will continue here, asking for gender input again"
      ],
      "metadata": {
        "id": "oLoZJPIkW0Ai"
      },
      "execution_count": null,
      "outputs": []
    }
  ]
}